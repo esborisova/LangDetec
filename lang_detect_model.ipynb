{
 "cells": [
  {
   "cell_type": "markdown",
   "metadata": {},
   "source": [
    "# ML model for language detection of a text document\n",
    "\n",
    "**Dataset**: European Parliament Proceedings Parallel Corpus (EPPPC) 1996-2011 (Koehn 2005). \n",
    "\n",
    "**Languages**: English, Danish, German, Swedish and Italian.\n",
    "\n",
    "**Approach**: Multiclass supervised classification based on TF-IDF weighted N-character-gram (Cavnar & Trenkle 1994) text representation.\n",
    "\n",
    "**The source code**: put link"
   ]
  },
  {
   "cell_type": "markdown",
   "metadata": {},
   "source": [
    "## 1. Import packages"
   ]
  },
  {
   "cell_type": "code",
   "execution_count": 1,
   "metadata": {},
   "outputs": [],
   "source": [
    "import os\n",
    "from pathlib import Path\n",
    "import json\n",
    "from bs4 import BeautifulSoup\n",
    "import regex as re\n",
    "import pandas as pd\n",
    "from typing import List\n",
    "import matplotlib.pyplot as plt\n",
    "\n",
    "from sklearn.preprocessing import LabelEncoder\n",
    "from sklearn.model_selection import train_test_split\n",
    "from sklearn.feature_extraction.text import TfidfVectorizer\n",
    "from sklearn.naive_bayes import MultinomialNB\n",
    "from sklearn.model_selection import cross_val_score\n",
    "from sklearn.metrics import confusion_matrix, classification_report\n",
    "from sklearn.metrics import ConfusionMatrixDisplay"
   ]
  },
  {
   "cell_type": "markdown",
   "metadata": {},
   "source": [
    "## 2. Define functions"
   ]
  },
  {
   "cell_type": "code",
   "execution_count": 2,
   "metadata": {},
   "outputs": [],
   "source": [
    "def get_files(rootdir: str) -> List[str]:\n",
    "    \"\"\"Collects paths to files across directories in a given rood directory. \n",
    "    Args:\n",
    "        rootdir (str): The path to a root directory.\n",
    "    Returns:\n",
    "        List[str]: List with files paths.\n",
    "    \"\"\"\n",
    "\n",
    "    files_paths = []\n",
    "\n",
    "    for dir in os.listdir(rootdir):\n",
    "        dir_path = os.path.join(rootdir, dir)\n",
    "        for file in os.listdir(dir_path):\n",
    "            file_path = os.path.join(dir_path, file)\n",
    "            if os.path.isfile(file_path):\n",
    "                files_paths.append(file_path)\n",
    "\n",
    "    return files_paths\n",
    "\n",
    "\n",
    "def remove_html_commands(text: str) -> str:\n",
    "    \"\"\"\n",
    "    Cleans text from html tags.\n",
    "    Args:\n",
    "        text (str): The string to remove tags from.\n",
    "    Returns:\n",
    "        str: A string cleaned from html tags.\n",
    "    \"\"\"\n",
    "\n",
    "    soup = BeautifulSoup(text, features=\"html.parser\")\n",
    "\n",
    "    for script in soup([\"script\", \"style\"]):\n",
    "        script.extract()\n",
    "\n",
    "    text = soup.get_text()\n",
    "\n",
    "    lines = (line.strip() for line in text.splitlines())\n",
    "    chunks = (phrase.strip() for line in lines for phrase in line.split(\"  \"))\n",
    "    text = \"\\n\".join(chunk for chunk in chunks if chunk)\n",
    "\n",
    "    return text\n",
    "\n",
    "\n",
    "def clean_text(text: str) -> str:\n",
    "    \"\"\"\n",
    "    Cleans text from punctuation, URLs, ASCII charecters (except special letters, f.ex., German umlaut), \n",
    "    multiple spaces and lowercases.\n",
    "    Args:\n",
    "        text (str): The text document to clean.\n",
    "    Returns:\n",
    "        str: The cleaned document.\n",
    "    \"\"\"\n",
    "\n",
    "    no_urls = re.sub(r\"http\\S+\", \"\", text)\n",
    "    no_special_ch = re.sub(r\"([^A-Za-zØøÅåÆæÄäÖöÜüẞß])|(\\w+:\\/\\/\\S+)\", \" \", no_urls)\n",
    "    no_special_ch = no_special_ch.replace(\"\\n\", \" \")\n",
    "    lowercased_str = no_special_ch.lower()\n",
    "    cleaned_text = \" \".join(lowercased_str.split())\n",
    "\n",
    "    return cleaned_text"
   ]
  },
  {
   "cell_type": "markdown",
   "metadata": {},
   "source": [
    "## 3. Build a corpus\n",
    "Steps:\n",
    "\n",
    "1. Scrap text documents from *.txt* files and preprocess (clean). \n",
    "\n",
    "   Note that stop words (articles, particles, pronouns, etc) are not removed since they are meaningful for the language detection task. \n",
    "\n",
    "   Furthermore, the texts in EPPPC corpus are considerably long. To avoid memory licks and long processing time, the documents length was restricted to 2000 characters.\n",
    "\n",
    "2. Compose the list of dictionaries per language containing texts and language label. \n",
    "3. Save the resulting list to a *json* file (per language). \n",
    "\n",
    "   An example of a resulting json formated file:\n",
    "\n",
    "```python\n",
    "[\n",
    "  },\n",
    "  {\n",
    "    \"text\": \"fællesskabsfonden for tobak\",\n",
    "    \"language\": \"da\"\n",
    "  },\n",
    "  {\n",
    "    \"text\": \"økonomisk partnerskabsaftale ef landene i det østafrikanske fællesskab afstemning\",\n",
    "    \"language\": \"da\"\n",
    "  },\n",
    "]  \n",
    "```\n",
    "\n",
    "### "
   ]
  },
  {
   "cell_type": "code",
   "execution_count": 4,
   "metadata": {},
   "outputs": [],
   "source": [
    "root_dir = \"data/\"\n",
    "paths = get_files(root_dir)\n",
    "\n",
    "languages = ['/en/', '/da/', '/de/', '/sv/', '/it/']\n",
    "\n",
    "dataset = [] \n",
    "\n",
    "for lang in languages:\n",
    "    for file in paths:\n",
    "        if lang in file:  \n",
    "            lang_name = lang.replace('/', '')\n",
    "            with open(file, encoding=\"utf-8\") as f:\n",
    "                text_label = {}\n",
    "                data = f.readlines()\n",
    "                data = \" \".join(data)\n",
    "                data = data[:2000]\n",
    "                cleaned_doc = remove_html_commands(data)\n",
    "                cleaned = clean_text(cleaned_doc)\n",
    "                text_label[\"text\"] = cleaned\n",
    "                text_label[\"language\"] = lang_name\n",
    "            dataset.append(text_label)  \n",
    "      \n",
    "    data = json.dumps(dataset, ensure_ascii=False, indent=2)\n",
    "    file_name = \"json/\" + lang_name + \".json\"\n",
    "\n",
    "    with open(file_name, \"w\") as outfile:\n",
    "        outfile.write(data)\n",
    "                \n",
    "    dataset=[]"
   ]
  },
  {
   "cell_type": "markdown",
   "metadata": {},
   "source": [
    "# 4.Combine json files into a dataframe\n",
    "To have a single table with all collected samples, the data from 5 json files was merged into a pandas dataframe and saved into a *.pkl* file.\n",
    "\n",
    "At this stage, the duplicated texts written in the same langauge as well as empty strings (which were the results of the cleaning perfomed on step 3) were removed.\n",
    "\n",
    "The data was also tested with respect to the presence of text duplicates belonging to different languages. "
   ]
  },
  {
   "cell_type": "code",
   "execution_count": 44,
   "metadata": {},
   "outputs": [
    {
     "name": "stdout",
     "output_type": "stream",
     "text": [
      "Empty DataFrame\n",
      "Columns: [text, language]\n",
      "Index: []\n"
     ]
    }
   ],
   "source": [
    "dfs = []\n",
    "\n",
    "root_dir = \"json/\"\n",
    "file_list = [\"en.json\", \"sv.json\", \"de.json\", \"da.json\", \"it.json\"]\n",
    "\n",
    "for file in file_list:\n",
    "    file_path = os.path.join(root_dir, file)\n",
    "    with open(file_path) as f:\n",
    "        df = pd.json_normalize(json.load(f))\n",
    "        df = df.drop_duplicates(\n",
    "            subset=[\"text\"], keep=\"first\"\n",
    "        ).reset_index(drop=True)\n",
    "        df = df[df['text'] != \"\"]\n",
    "    dfs.append(df)\n",
    "\n",
    "data_df = pd.concat(dfs, sort=False)\n",
    "duplicated = data_df[data_df.duplicated()]\n",
    "print(duplicated)\n",
    "data_df.to_pickle(\"pkl/dataset.pkl\")"
   ]
  },
  {
   "cell_type": "markdown",
   "metadata": {},
   "source": [
    "# 5. Train an ML model\n",
    "Steps:\n",
    "1. Load *.pkl* file with the dataset. \n",
    "\n",
    "   Note: The total number of samples per language is shown below."
   ]
  },
  {
   "cell_type": "code",
   "execution_count": 3,
   "metadata": {},
   "outputs": [
    {
     "data": {
      "text/html": [
       "<div>\n",
       "<style scoped>\n",
       "    .dataframe tbody tr th:only-of-type {\n",
       "        vertical-align: middle;\n",
       "    }\n",
       "\n",
       "    .dataframe tbody tr th {\n",
       "        vertical-align: top;\n",
       "    }\n",
       "\n",
       "    .dataframe thead th {\n",
       "        text-align: right;\n",
       "    }\n",
       "</style>\n",
       "<table border=\"1\" class=\"dataframe\">\n",
       "  <thead>\n",
       "    <tr style=\"text-align: right;\">\n",
       "      <th></th>\n",
       "      <th>text</th>\n",
       "      <th>language</th>\n",
       "    </tr>\n",
       "  </thead>\n",
       "  <tbody>\n",
       "    <tr>\n",
       "      <th>0</th>\n",
       "      <td>corrections to votes and voting intentions see...</td>\n",
       "      <td>en</td>\n",
       "    </tr>\n",
       "    <tr>\n",
       "      <th>1</th>\n",
       "      <td>community tobacco fund</td>\n",
       "      <td>en</td>\n",
       "    </tr>\n",
       "    <tr>\n",
       "      <th>2</th>\n",
       "      <td>ec eac partner states economic partnership agr...</td>\n",
       "      <td>en</td>\n",
       "    </tr>\n",
       "    <tr>\n",
       "      <th>3</th>\n",
       "      <td>the case of ai weiwei in china the next item i...</td>\n",
       "      <td>en</td>\n",
       "    </tr>\n",
       "    <tr>\n",
       "      <th>4</th>\n",
       "      <td>the cohesion policy after debate the next item...</td>\n",
       "      <td>en</td>\n",
       "    </tr>\n",
       "  </tbody>\n",
       "</table>\n",
       "</div>"
      ],
      "text/plain": [
       "                                                text language\n",
       "0  corrections to votes and voting intentions see...       en\n",
       "1                             community tobacco fund       en\n",
       "2  ec eac partner states economic partnership agr...       en\n",
       "3  the case of ai weiwei in china the next item i...       en\n",
       "4  the cohesion policy after debate the next item...       en"
      ]
     },
     "execution_count": 3,
     "metadata": {},
     "output_type": "execute_result"
    }
   ],
   "source": [
    "dataset = pd.read_pickle(\"pkl/dataset.pkl\")\n",
    "dataset.head()"
   ]
  },
  {
   "cell_type": "code",
   "execution_count": 4,
   "metadata": {},
   "outputs": [
    {
     "data": {
      "text/plain": [
       "en    6569\n",
       "da    6312\n",
       "sv    6291\n",
       "de    6146\n",
       "it    4949\n",
       "Name: language, dtype: int64"
      ]
     },
     "execution_count": 4,
     "metadata": {},
     "output_type": "execute_result"
    }
   ],
   "source": [
    "dataset[\"language\"].value_counts()"
   ]
  },
  {
   "cell_type": "markdown",
   "metadata": {},
   "source": [
    "2. Save X (features) into a variable to use further as an input for TF-IDF vectorizer.\n",
    "3. Transform Y (labels) categorical values into numeric once. "
   ]
  },
  {
   "cell_type": "code",
   "execution_count": 5,
   "metadata": {},
   "outputs": [
    {
     "name": "stdout",
     "output_type": "stream",
     "text": [
      "{'da': 0, 'de': 1, 'en': 2, 'it': 3, 'sv': 4}\n"
     ]
    }
   ],
   "source": [
    "docs = dataset[\"text\"]\n",
    "\n",
    "LE = LabelEncoder()\n",
    "labels = LE.fit(dataset[\"language\"])\n",
    "name_mapping = dict(zip(LE.classes_, LE.transform(LE.classes_)))\n",
    "labels = labels.transform(dataset[\"language\"])\n",
    "print(name_mapping)"
   ]
  },
  {
   "cell_type": "markdown",
   "metadata": {},
   "source": [
    "4. Split the data corpus into training and test sets."
   ]
  },
  {
   "cell_type": "code",
   "execution_count": 6,
   "metadata": {},
   "outputs": [],
   "source": [
    "x_train, x_test, y_train, y_test = train_test_split(docs, labels, test_size=0.20)"
   ]
  },
  {
   "cell_type": "markdown",
   "metadata": {},
   "source": [
    "5. Define ML algorithim to use for model bulding. \n",
    "\n",
    "   For this multiclass classification task, the multinomial Naive Bayes classifier was chosen. \n",
    "\n",
    "6. Test various ```ngram_range``` parametrs for ```TfidfVectorizer()```. \n",
    "\n",
    "   To this end, the different combinations of unigrams, bigrams and trigrams were employed.\n",
    "\n",
    "   To identify the best ```ngram_range```, the model performance was estimated with cross-validation method.\n",
    "\n",
    "   F1 macro score was selected as the scoring parameter. \n",
    "   \n",
    "   As a result, the highest mean and lowerst std F1-macro score values were obtained with trigrams.\n",
    "\n",
    "   The results coinsicoincide with Cavnar, W., & Trenkle, J. (1994). N-gram-based text categorization. Proc. 3rd Symp. on Document Analysis and Information Retrieval (SDAIR-94) study. Cavnar, W., & Trenkle suggest that using trigrams (at the character\n",
    "   level) generally yields the best results."
   ]
  },
  {
   "cell_type": "code",
   "execution_count": 7,
   "metadata": {},
   "outputs": [
    {
     "name": "stdout",
     "output_type": "stream",
     "text": [
      "For unigrams the mean f1_macro score is 0.9556273854188451 and the std f1_macro score is 0.0021791265308955545\n",
      "For uni_bi_grams the mean f1_macro score is 0.98822072069252 and the std f1_macro score is 0.0014319061745227493\n",
      "For uni_tri_grams the mean f1_macro score is 0.9942607216687426 and the std f1_macro score is 0.0007358917434474549\n",
      "For bigrams the mean f1_macro score is 0.9888058794063767 and the std f1_macro score is 0.0011604577877980344\n",
      "For bi_tri_grams the mean f1_macro score is 0.9945227653284745 and the std f1_macro score is 0.0005970020094732383\n",
      "For trigrams the mean f1_macro score is 0.9951105539930619 and the std f1_macro score is 0.0005009596597341769\n"
     ]
    }
   ],
   "source": [
    "model = MultinomialNB()\n",
    "\n",
    "n_gram_ranges = {\"unigrams\": (1,1), \"uni_bi_grams\": (1,2), \"uni_tri_grams\": (1,3), \"bigrams\": (2,2), \"bi_tri_grams\": (2,3), \"trigrams\":(3,3)}\n",
    "\n",
    "for key, value in n_gram_ranges.items():\n",
    "\n",
    "    tfidf_vectorizer = TfidfVectorizer(lowercase=False, analyzer=\"char\", ngram_range=value)\n",
    "\n",
    "    X_train = tfidf_vectorizer.fit_transform(x_train)\n",
    "    X_test = tfidf_vectorizer.transform(x_test)\n",
    "\n",
    "    scores = cross_val_score(model, X_train, y_train, cv=5, scoring='f1_macro')\n",
    "    print(\"For\", key, \"the mean f1_macro score is\", scores.mean(), \"and the std f1_macro score is\", scores.std())   "
   ]
  },
  {
   "cell_type": "markdown",
   "metadata": {},
   "source": [
    "7. Train the model on vocabualry of TF-IDF weighted n-grams.\n",
    "8. Test the model on the test set."
   ]
  },
  {
   "cell_type": "code",
   "execution_count": 8,
   "metadata": {},
   "outputs": [],
   "source": [
    "tfidf_vectorizer = TfidfVectorizer(lowercase=False, analyzer=\"char\", ngram_range=(3,3))\n",
    "\n",
    "X_train = tfidf_vectorizer.fit_transform(x_train)\n",
    "X_test = tfidf_vectorizer.transform(x_test)\n",
    "\n",
    "model.fit(X_train, y_train)\n",
    "y_pred = model.predict(X_test)"
   ]
  },
  {
   "cell_type": "markdown",
   "metadata": {},
   "source": [
    "# 6. Model evaluation\n",
    "9. Compute accuracy, precision, recall and F1-score.\n",
    "10. Plot and save the confusion matrix.\n",
    "\n",
    "Conclusion:\n",
    "\n",
    "The scores are high because:\n",
    "long texts\n",
    "even though en and it, sv and da has overlaps in letters and words, the same combination of 3 char in those lang-s seems to be less common. \n",
    "It is monolingual approach which does not consider multilingual texts (f.,ex., mix of da and en).\n",
    "This model also is not trained on all languages and especially those which are more similar to each other like Danish and Norwegian."
   ]
  },
  {
   "cell_type": "code",
   "execution_count": 10,
   "metadata": {},
   "outputs": [
    {
     "name": "stdout",
     "output_type": "stream",
     "text": [
      "              precision    recall  f1-score   support\n",
      "\n",
      "          da       1.00      0.99      0.99      1283\n",
      "          de       1.00      0.99      0.99      1221\n",
      "          en       0.99      1.00      0.99      1299\n",
      "          it       0.99      1.00      0.99       961\n",
      "          sv       1.00      1.00      1.00      1290\n",
      "\n",
      "    accuracy                           0.99      6054\n",
      "   macro avg       0.99      0.99      0.99      6054\n",
      "weighted avg       0.99      0.99      0.99      6054\n",
      "\n"
     ]
    }
   ],
   "source": [
    "target_names = [\"da\", \"de\", \"en\", \"it\", \"sv\"]\n",
    "report = classification_report(y_test, y_pred, target_names=target_names)\n",
    "print(report)"
   ]
  },
  {
   "cell_type": "code",
   "execution_count": 11,
   "metadata": {},
   "outputs": [
    {
     "data": {
      "image/png": "[encoded data removed]",
      "text/plain": [
       "<Figure size 864x720 with 2 Axes>"
      ]
     },
     "metadata": {
      "needs_background": "light"
     },
     "output_type": "display_data"
    }
   ],
   "source": [
    "con_matrix = confusion_matrix(y_test, y_pred)\n",
    "fig, ax = plt.subplots(figsize=(12, 10))\n",
    "cmd = ConfusionMatrixDisplay(con_matrix, display_labels=[\"da\", \"de\", \"en\", \"it\", \"sv\"])\n",
    "cmd.plot(ax=ax, cmap=plt.cm.Blues)\n",
    "plt.savefig(\"figs/con_matrix.pdf\")"
   ]
  },
  {
   "cell_type": "markdown",
   "metadata": {},
   "source": [
    "# References\n",
    "Cavnar William B., & Trenkle John M.1994. N-gram-based text categorization. *In Proceedings of the 3rd Annual Symposium on Document Analysis and Information Retrieval (SDAIR-94)*. 161–175. Las Vegas.\n",
    "\n",
    "Koehn Philipp. 2005. Europarl: A Parallel Corpus for Statistical Machine Translation. *In Proceedings of Machine Translation Summit X: Papers*. 79–86. Phuket."
   ]
  }
 ],
 "metadata": {
  "interpreter": {
   "hash": "d6805e15886aab53026236d0c7a2691c0f3a4936a9fa243a37c54dfd5efd3ad7"
  },
  "kernelspec": {
   "display_name": "Python 3.8.10 ('myproject-o7xzvy_i')",
   "language": "python",
   "name": "python3"
  },
  "language_info": {
   "codemirror_mode": {
    "name": "ipython",
    "version": 3
   },
   "file_extension": ".py",
   "mimetype": "text/x-python",
   "name": "python",
   "nbconvert_exporter": "python",
   "pygments_lexer": "ipython3",
   "version": "3.8.10"
  },
  "orig_nbformat": 4
 },
 "nbformat": 4,
 "nbformat_minor": 2
}
