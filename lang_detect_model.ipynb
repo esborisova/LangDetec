{
 "cells": [
  {
   "cell_type": "markdown",
   "metadata": {},
   "source": [
    "# ML model for language detection of a text document\n",
    "\n",
    "**Dataset**: European Parliament Proceedings Parallel Corpus (EPPPC) 1996-2011 (Koehn 2005). The data can be dowloaded [here](https://www.statmt.org/europarl/).\n",
    "\n",
    "**Languages**: English, Danish, German, Swedish and Italian.\n",
    "\n",
    "**Approach**: Multiclass supervised classification based on TF-IDF weighted N-character-grams (Cavnar & Trenkle 1994).\n",
    "\n",
    "**The source code**: The github repository with data used for the model building along with original *.py* files can be found [here](https://github.com/esborisova/LangDetec)."
   ]
  },
  {
   "cell_type": "markdown",
   "metadata": {},
   "source": [
    "## 1. Import packages"
   ]
  },
  {
   "cell_type": "code",
   "execution_count": 2,
   "metadata": {},
   "outputs": [],
   "source": [
    "import os\n",
    "from pathlib import Path\n",
    "import json\n",
    "from bs4 import BeautifulSoup\n",
    "import regex as re\n",
    "import pandas as pd\n",
    "from typing import List\n",
    "import matplotlib.pyplot as plt\n",
    "\n",
    "from sklearn.preprocessing import LabelEncoder\n",
    "from sklearn.model_selection import train_test_split\n",
    "from sklearn.feature_extraction.text import TfidfVectorizer\n",
    "from sklearn.naive_bayes import MultinomialNB\n",
    "from sklearn.model_selection import cross_val_score\n",
    "from sklearn.metrics import confusion_matrix, classification_report\n",
    "from sklearn.metrics import ConfusionMatrixDisplay"
   ]
  },
  {
   "cell_type": "markdown",
   "metadata": {},
   "source": [
    "## 2. Define functions"
   ]
  },
  {
   "cell_type": "code",
   "execution_count": 3,
   "metadata": {},
   "outputs": [],
   "source": [
    "def get_files(rootdir: str) -> List[str]:\n",
    "    \"\"\"Collects paths to files across directories in a given root directory. \n",
    "    Args:\n",
    "        rootdir (str): The path to a root directory.\n",
    "    Returns:\n",
    "        List[str]: List with files paths.\n",
    "    \"\"\"\n",
    "\n",
    "    files_paths = []\n",
    "\n",
    "    for dir in os.listdir(rootdir):\n",
    "        dir_path = os.path.join(rootdir, dir)\n",
    "        for file in os.listdir(dir_path):\n",
    "            file_path = os.path.join(dir_path, file)\n",
    "            if os.path.isfile(file_path):\n",
    "                files_paths.append(file_path)\n",
    "\n",
    "    return files_paths\n",
    "\n",
    "\n",
    "def remove_html_commands(text: str) -> str:\n",
    "    \"\"\"\n",
    "    Cleans text from html tags.\n",
    "    Args:\n",
    "        text (str): The string to remove tags from.\n",
    "    Returns:\n",
    "        str: A string cleaned from html tags.\n",
    "    \"\"\"\n",
    "\n",
    "    soup = BeautifulSoup(text, features=\"html.parser\")\n",
    "\n",
    "    for script in soup([\"script\", \"style\"]):\n",
    "        script.extract()\n",
    "\n",
    "    text = soup.get_text()\n",
    "\n",
    "    lines = (line.strip() for line in text.splitlines())\n",
    "    chunks = (phrase.strip() for line in lines for phrase in line.split(\"  \"))\n",
    "    text = \"\\n\".join(chunk for chunk in chunks if chunk)\n",
    "\n",
    "    return text\n",
    "\n",
    "\n",
    "def clean_text(text: str) -> str:\n",
    "    \"\"\"\n",
    "    Cleans text from punctuation, URLs, ASCII charecters (except special letters, f.ex., German umlaut), \n",
    "    multiple spaces and lowercases.\n",
    "    Args:\n",
    "        text (str): The text document to clean.\n",
    "    Returns:\n",
    "        str: The cleaned document.\n",
    "    \"\"\"\n",
    "\n",
    "    no_urls = re.sub(r\"http\\S+\", \"\", text)\n",
    "    no_special_ch = re.sub(r\"([^A-Za-zØøÅåÆæÄäÖöÜüẞß])|(\\w+:\\/\\/\\S+)\", \" \", no_urls)\n",
    "    no_special_ch = no_special_ch.replace(\"\\n\", \" \")\n",
    "    lowercased_str = no_special_ch.lower()\n",
    "    cleaned_text = \" \".join(lowercased_str.split())\n",
    "\n",
    "    return cleaned_text"
   ]
  },
  {
   "cell_type": "markdown",
   "metadata": {},
   "source": [
    "## 3. Build a data corpus\n",
    "Steps:\n",
    "\n",
    "1. Extract texts from *.txt* files and preprocess (clean) them. \n",
    "\n",
    "   **Note:**\n",
    "\n",
    "   - stop words (articles, particles, pronouns, etc.) were not removed since they are meaningful for the language detection task. \n",
    "   \n",
    "   - the length of documents was limited to 2000 characters. The texts in the EPPPC corpus are quite long, thus, to avoid memory leaks and long processing time, documents' length was reduced.\n",
    "\n",
    "2. Compose a list of dictionaries (per language) containing texts and the corresponding language label. \n",
    "3. Save the resulting list to a *json* file (per language). \n",
    "\n",
    "   An example of a json file structure:\n",
    "\n",
    "```python\n",
    "[\n",
    "  },\n",
    "  {\n",
    "    \"text\": \"fællesskabsfonden for tobak\",\n",
    "    \"language\": \"da\"\n",
    "  },\n",
    "  {\n",
    "    \"text\": \"økonomisk partnerskabsaftale ef landene i det østafrikanske fællesskab afstemning\",\n",
    "    \"language\": \"da\"\n",
    "  },\n",
    "]  \n",
    "```\n",
    "\n",
    "### "
   ]
  },
  {
   "cell_type": "code",
   "execution_count": 4,
   "metadata": {},
   "outputs": [],
   "source": [
    "root_dir = \"data/\"\n",
    "paths = get_files(root_dir)\n",
    "\n",
    "languages = ['/en/', '/da/', '/de/', '/sv/', '/it/']\n",
    "\n",
    "dataset = [] \n",
    "\n",
    "for lang in languages:\n",
    "    for file in paths:\n",
    "        if lang in file:  \n",
    "            lang_name = lang.replace('/', '')\n",
    "            with open(file, encoding=\"utf-8\") as f:\n",
    "                text_label = {}\n",
    "                data = f.readlines()\n",
    "                data = \" \".join(data)\n",
    "                data = data[:2000]\n",
    "                cleaned_doc = remove_html_commands(data)\n",
    "                cleaned = clean_text(cleaned_doc)\n",
    "                text_label[\"text\"] = cleaned\n",
    "                text_label[\"language\"] = lang_name\n",
    "            dataset.append(text_label)  \n",
    "      \n",
    "    data = json.dumps(dataset, ensure_ascii=False, indent=2)\n",
    "    file_name = \"json/\" + lang_name + \".json\"\n",
    "\n",
    "    with open(file_name, \"w\") as outfile:\n",
    "        outfile.write(data)\n",
    "                \n",
    "    dataset=[]"
   ]
  },
  {
   "cell_type": "markdown",
   "metadata": {},
   "source": [
    "# 4.Combine json files into a dataframe\n",
    "To have a single table with all collected samples, the data from 5 json files was merged into a pandas dataframe and saved into a *.pkl* file.\n",
    "\n",
    "At this stage, the duplicated texts written in the same langauge as well as empty strings (which were the result of the cleaning perfomed on step 3) were removed.\n",
    "\n",
    "The data was also tested with respect to the presence of text duplicates belonging to different languages. "
   ]
  },
  {
   "cell_type": "code",
   "execution_count": 44,
   "metadata": {},
   "outputs": [
    {
     "name": "stdout",
     "output_type": "stream",
     "text": [
      "Empty DataFrame\n",
      "Columns: [text, language]\n",
      "Index: []\n"
     ]
    }
   ],
   "source": [
    "dfs = []\n",
    "\n",
    "root_dir = \"json/\"\n",
    "file_list = [\"en.json\", \"sv.json\", \"de.json\", \"da.json\", \"it.json\"]\n",
    "\n",
    "for file in file_list:\n",
    "    file_path = os.path.join(root_dir, file)\n",
    "    with open(file_path) as f:\n",
    "        df = pd.json_normalize(json.load(f))\n",
    "        df = df.drop_duplicates(\n",
    "            subset=[\"text\"], keep=\"first\"\n",
    "        ).reset_index(drop=True)\n",
    "        df = df[df['text'] != \"\"]\n",
    "    dfs.append(df)\n",
    "\n",
    "data_df = pd.concat(dfs, sort=False)\n",
    "duplicated = data_df[data_df.duplicated()]\n",
    "print(duplicated)\n",
    "data_df.to_pickle(\"pkl/dataset.pkl\")"
   ]
  },
  {
   "cell_type": "markdown",
   "metadata": {},
   "source": [
    "# 5. Build an ML model\n",
    "## 5.1 Prepare feature vectors and class labels\n",
    "\n",
    "Steps:\n",
    "\n",
    "1. Load *.pkl* file with the dataset. The number of collected samples constitues about 6000 for every langauge but Italian (4000 texts).   \n",
    "\n",
    "2. Save all texts into a variable to further use as an input for TF-IDF vectorizer.\n",
    "\n",
    "3. Transform language labels into numeric values (from 0 to 4). \n",
    "\n",
    "4. Split the data corpus into training and test sets."
   ]
  },
  {
   "cell_type": "code",
   "execution_count": 4,
   "metadata": {},
   "outputs": [
    {
     "data": {
      "text/html": [
       "<div>\n",
       "<style scoped>\n",
       "    .dataframe tbody tr th:only-of-type {\n",
       "        vertical-align: middle;\n",
       "    }\n",
       "\n",
       "    .dataframe tbody tr th {\n",
       "        vertical-align: top;\n",
       "    }\n",
       "\n",
       "    .dataframe thead th {\n",
       "        text-align: right;\n",
       "    }\n",
       "</style>\n",
       "<table border=\"1\" class=\"dataframe\">\n",
       "  <thead>\n",
       "    <tr style=\"text-align: right;\">\n",
       "      <th></th>\n",
       "      <th>text</th>\n",
       "      <th>language</th>\n",
       "    </tr>\n",
       "  </thead>\n",
       "  <tbody>\n",
       "    <tr>\n",
       "      <th>0</th>\n",
       "      <td>corrections to votes and voting intentions see...</td>\n",
       "      <td>en</td>\n",
       "    </tr>\n",
       "    <tr>\n",
       "      <th>1</th>\n",
       "      <td>community tobacco fund</td>\n",
       "      <td>en</td>\n",
       "    </tr>\n",
       "    <tr>\n",
       "      <th>2</th>\n",
       "      <td>ec eac partner states economic partnership agr...</td>\n",
       "      <td>en</td>\n",
       "    </tr>\n",
       "    <tr>\n",
       "      <th>3</th>\n",
       "      <td>the case of ai weiwei in china the next item i...</td>\n",
       "      <td>en</td>\n",
       "    </tr>\n",
       "    <tr>\n",
       "      <th>4</th>\n",
       "      <td>the cohesion policy after debate the next item...</td>\n",
       "      <td>en</td>\n",
       "    </tr>\n",
       "  </tbody>\n",
       "</table>\n",
       "</div>"
      ],
      "text/plain": [
       "                                                text language\n",
       "0  corrections to votes and voting intentions see...       en\n",
       "1                             community tobacco fund       en\n",
       "2  ec eac partner states economic partnership agr...       en\n",
       "3  the case of ai weiwei in china the next item i...       en\n",
       "4  the cohesion policy after debate the next item...       en"
      ]
     },
     "execution_count": 4,
     "metadata": {},
     "output_type": "execute_result"
    }
   ],
   "source": [
    "dataset = pd.read_pickle(\"pkl/dataset.pkl\")\n",
    "dataset.head()"
   ]
  },
  {
   "cell_type": "code",
   "execution_count": 5,
   "metadata": {},
   "outputs": [
    {
     "data": {
      "text/plain": [
       "en    6569\n",
       "da    6312\n",
       "sv    6291\n",
       "de    6146\n",
       "it    4949\n",
       "Name: language, dtype: int64"
      ]
     },
     "execution_count": 5,
     "metadata": {},
     "output_type": "execute_result"
    }
   ],
   "source": [
    "dataset[\"language\"].value_counts()"
   ]
  },
  {
   "cell_type": "code",
   "execution_count": 6,
   "metadata": {},
   "outputs": [
    {
     "name": "stdout",
     "output_type": "stream",
     "text": [
      "{'da': 0, 'de': 1, 'en': 2, 'it': 3, 'sv': 4}\n"
     ]
    }
   ],
   "source": [
    "docs = dataset[\"text\"]\n",
    "\n",
    "LE = LabelEncoder()\n",
    "labels = LE.fit(dataset[\"language\"])\n",
    "name_mapping = dict(zip(LE.classes_, LE.transform(LE.classes_)))\n",
    "labels = labels.transform(dataset[\"language\"])\n",
    "print(name_mapping)"
   ]
  },
  {
   "cell_type": "code",
   "execution_count": 7,
   "metadata": {},
   "outputs": [],
   "source": [
    "x_train, x_test, y_train, y_test = train_test_split(docs, labels, test_size=0.20)"
   ]
  },
  {
   "cell_type": "markdown",
   "metadata": {},
   "source": [
    "## 5.2 Select the *n*-char-gram range \n",
    "\n",
    "Steps:\n",
    " \n",
    "1. Define an ML algorithim for model bulding. \n",
    "\n",
    "   For this multiclass classification task, the multinomial Naive Bayes classifier was chosen. \n",
    "\n",
    "2. Test various ```ngram_range``` parametrs for ```TfidfVectorizer()```. \n",
    "\n",
    "   To this end, different combinations of *unigrams*, *bigrams* and *trigrams* were employed.\n",
    "\n",
    "   To identify the best ```ngram_range```, the model performance was estimated with the cross-validation method during the training phase. \n",
    "   \n",
    "   F1-macro score was selected as the scoring parameter. \n",
    "\n",
    "   The almost identical *mean* and *std* F1-macro score values were obtained for **trigrams** and the combination of **bigrams and trigrams**.  Since the latter provides richer vocabulary and, thus, more information about the language, it was chosen for the final model development."
   ]
  },
  {
   "cell_type": "code",
   "execution_count": 9,
   "metadata": {},
   "outputs": [
    {
     "name": "stdout",
     "output_type": "stream",
     "text": [
      "For unigrams the mean f1_macro score is 0.9552125876705176 and the std f1_macro score is 0.0017813558777394095\n",
      "For uni_bi_grams the mean f1_macro score is 0.9888907644130065 and the std f1_macro score is 0.0004838637820709969\n",
      "For uni_tri_grams the mean f1_macro score is 0.9943988094870464 and the std f1_macro score is 0.0004497775017976877\n",
      "For bigrams the mean f1_macro score is 0.989378325667 and the std f1_macro score is 0.0008258180317326829\n",
      "For bi_tri_grams the mean f1_macro score is 0.9947603976776336 and the std f1_macro score is 0.0005000619019547576\n",
      "For trigrams the mean f1_macro score is 0.9949565544696192 and the std f1_macro score is 0.0006929086532040242\n"
     ]
    }
   ],
   "source": [
    "model = MultinomialNB()\n",
    "\n",
    "n_gram_ranges = {\"unigrams\": (1,1), \"uni_bi_grams\": (1,2), \"uni_tri_grams\": (1,3), \"bigrams\": (2,2), \"bi_tri_grams\": (2,3), \"trigrams\":(3,3)}\n",
    "\n",
    "for key, value in n_gram_ranges.items():\n",
    "\n",
    "    tfidf_vectorizer = TfidfVectorizer(lowercase=False, analyzer=\"char\", ngram_range=value)\n",
    "\n",
    "    X_train = tfidf_vectorizer.fit_transform(x_train)\n",
    "    X_test = tfidf_vectorizer.transform(x_test)\n",
    "\n",
    "    scores = cross_val_score(model, X_train, y_train, cv=5, scoring='f1_macro')\n",
    "    print(\"For\", key, \"the mean f1_macro score is\", scores.mean(), \"and the std f1_macro score is\", scores.std())   "
   ]
  },
  {
   "cell_type": "markdown",
   "metadata": {},
   "source": [
    "## 5.3 Train and test the model\n",
    "\n",
    "Based on the findings described above, the final model was trained and tested on the TF-IDF weighted character bi- and tri-grams."
   ]
  },
  {
   "cell_type": "code",
   "execution_count": 10,
   "metadata": {},
   "outputs": [],
   "source": [
    "tfidf_vectorizer = TfidfVectorizer(lowercase=False, analyzer=\"char\", ngram_range=(2,3))\n",
    "\n",
    "X_train = tfidf_vectorizer.fit_transform(x_train)\n",
    "X_test = tfidf_vectorizer.transform(x_test)\n",
    "\n",
    "model.fit(X_train, y_train)\n",
    "y_pred = model.predict(X_test)"
   ]
  },
  {
   "cell_type": "markdown",
   "metadata": {},
   "source": [
    "## 5.3 Evaluate model performance\n",
    "\n",
    "To this end, *accuracy*, *precision*, *recall* and *F1-score* were computed. "
   ]
  },
  {
   "cell_type": "code",
   "execution_count": 13,
   "metadata": {},
   "outputs": [
    {
     "name": "stdout",
     "output_type": "stream",
     "text": [
      "              precision    recall  f1-score   support\n",
      "\n",
      "          da       1.00      0.99      0.99      1294\n",
      "          de       1.00      1.00      1.00      1241\n",
      "          en       0.99      0.99      0.99      1294\n",
      "          it       0.99      1.00      0.99       994\n",
      "          sv       1.00      0.99      1.00      1231\n",
      "\n",
      "    accuracy                           0.99      6054\n",
      "   macro avg       0.99      0.99      0.99      6054\n",
      "weighted avg       0.99      0.99      0.99      6054\n",
      "\n"
     ]
    }
   ],
   "source": [
    "target_names = [\"da\", \"de\", \"en\", \"it\", \"sv\"]\n",
    "report = classification_report(y_test, y_pred, target_names=target_names)\n",
    "print(report)"
   ]
  },
  {
   "cell_type": "code",
   "execution_count": 14,
   "metadata": {},
   "outputs": [
    {
     "data": {
      "image/png": "[encoded data removed]",
      "text/plain": [
       "<Figure size 864x720 with 2 Axes>"
      ]
     },
     "metadata": {
      "needs_background": "light"
     },
     "output_type": "display_data"
    }
   ],
   "source": [
    "con_matrix = confusion_matrix(y_test, y_pred)\n",
    "fig, ax = plt.subplots(figsize=(12, 10))\n",
    "cmd = ConfusionMatrixDisplay(con_matrix, display_labels=[\"da\", \"de\", \"en\", \"it\", \"sv\"])\n",
    "cmd.plot(ax=ax, cmap=plt.cm.Blues)\n",
    "plt.savefig(\"figs/con_matrix.pdf\")"
   ]
  },
  {
   "cell_type": "markdown",
   "metadata": {},
   "source": [
    "# Conclusions\n",
    "\n",
    "The resulting ML model shows high performance. This can be due to the following reasons:\n",
    "\n",
    "- *texts length*\n",
    "\n",
    "  The text documents used for training are considerbly long, which allows to build a large vocabulary of character *n*-grams. This helps to better distinguish  between the selected languages. In the future perspective, the model can be trained and tested on shorter texts (f.ex., 100 charecters)\n",
    "\n",
    "- *bi- and tri-gram character sequences*\n",
    "  \n",
    "  In the data corpus, there are such relative languages as Danish and Swedish which share similar or even the same words/phrases:\n",
    "  \n",
    "  * Vi ses snart (both sv and da)\n",
    "  * tre (both sv and da)\n",
    "  * lila (sv), lilla (da).\n",
    "\n",
    "  Thus, it was expected that the model would confuse those languages and the misclassification rate would be higher. In this sence, bi- and tri-grams could be considered as more informative than unigrams. In general, the use of two and larger sequences of character *n*-grams could positivly affect the classifier performance.   \n",
    "\n",
    "  However, in order to prove this assumption, the model should be tested on almost identical langauges in terms of vocabulary and spelling. For example, the Norwegian could be included as the closest to Danish.   \n",
    "\n",
    "- *monolingual data*\n",
    "\n",
    "  The dataset includes only monolingual texts, consequently the language detection model might performe worse on multilingual texts. \n",
    "\n",
    "- *limited number of languages*\n",
    "\n",
    "  This classifier is trained only on 5 languages. The performence might be different if more languages are included."
   ]
  },
  {
   "cell_type": "markdown",
   "metadata": {},
   "source": [
    "# References\n",
    "Cavnar William B., & Trenkle John M.1994. N-gram-based text categorization. *In Proceedings of the 3rd Annual Symposium on Document Analysis and Information Retrieval (SDAIR-94)*. 161–175. Las Vegas.\n",
    "\n",
    "Koehn Philipp. 2005. Europarl: A Parallel Corpus for Statistical Machine Translation. *In Proceedings of Machine Translation Summit X: Papers*. 79–86. 13–15 September. Phuket."
   ]
  }
 ],
 "metadata": {
  "interpreter": {
   "hash": "d6805e15886aab53026236d0c7a2691c0f3a4936a9fa243a37c54dfd5efd3ad7"
  },
  "kernelspec": {
   "display_name": "Python 3.8.10 ('myproject-o7xzvy_i')",
   "language": "python",
   "name": "python3"
  },
  "language_info": {
   "codemirror_mode": {
    "name": "ipython",
    "version": 3
   },
   "file_extension": ".py",
   "mimetype": "text/x-python",
   "name": "python",
   "nbconvert_exporter": "python",
   "pygments_lexer": "ipython3",
   "version": "3.8.10"
  },
  "orig_nbformat": 4
 },
 "nbformat": 4,
 "nbformat_minor": 2
}
